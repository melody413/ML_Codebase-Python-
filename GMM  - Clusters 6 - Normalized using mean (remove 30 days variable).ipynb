{
 "cells": [
  {
   "cell_type": "code",
   "execution_count": 3,
   "metadata": {
    "collapsed": true
   },
   "outputs": [],
   "source": [
    "import pandas as pd"
   ]
  },
  {
   "cell_type": "code",
   "execution_count": 4,
   "metadata": {
    "collapsed": true
   },
   "outputs": [],
   "source": [
    "pd.options.display.max_rows = 4000\n",
    "pd.set_option('display.float_format', lambda x: '%.2f' % x)"
   ]
  },
  {
   "cell_type": "code",
   "execution_count": 5,
   "metadata": {
    "collapsed": false,
    "scrolled": true
   },
   "outputs": [],
   "source": [
    "df = pd.read_csv('../../0.Data/1.Interim/New/cluster.csv')"
   ]
  },
  {
   "cell_type": "code",
   "execution_count": 1,
   "metadata": {
    "collapsed": true
   },
   "outputs": [],
   "source": [
    "cols = ['TOT_DUE_AMT', 'Promise_%', 'A_avg', 'P_avg',\n",
    "       'acct_bhvr_scr_nbr', 'ar_bhvr_scr_nbr', 'avg_paid_full_dy_cnt',\n",
    "       'crdt_buru_scr_nbr', 'cust_bhvr_scr_nbr', 'cust_recls_scr_nbr',\n",
    "       'pmt_arng_scr_nbr', 'wirls_ln_cnt', 'excpt_ovrd_ind',\n",
    "       'pyarr_scr_nbr', 'lst_bhvr_scr_nbr', 'preferred_month_CALL_DT',\n",
    "       'preferred_day_of_monthCALL_DT', 'preferred_weekdayCALL_DT',\n",
    "       'return_itm_180_dy_cnt', 'Tenure',\n",
    "       'MOBILITY_REGION_NAME_flagCentral', 'MOBILITY_REGION_NAME_flagEast',\n",
    "       'MOBILITY_REGION_NAME_flagWest', 'ACCT_STS_AT_CALL_DATE_flagN',\n",
    "       'ACCT_STS_AT_CALL_DATE_flagO', 'ACCT_STS_AT_CALL_DATE_flagS']"
   ]
  },
  {
   "cell_type": "code",
   "execution_count": 6,
   "metadata": {
    "collapsed": false
   },
   "outputs": [
    {
     "data": {
      "text/plain": [
       "array(['TOT_DUE_AMT', 'Promise_%', 'Adjust_%', 'A_avg', 'P_avg',\n",
       "       'acct_bhvr_scr_nbr', 'ar_bhvr_scr_nbr', 'avg_paid_full_dy_cnt',\n",
       "       'crdt_buru_scr_nbr', 'cust_bhvr_scr_nbr', 'cust_recls_scr_nbr',\n",
       "       'pmt_arng_scr_nbr', 'wirls_ln_cnt', 'excpt_ovrd_ind',\n",
       "       'pyarr_scr_nbr', 'lst_bhvr_scr_nbr', 'preferred_month_CALL_DT',\n",
       "       'preferred_day_of_monthCALL_DT', 'preferred_weekdayCALL_DT',\n",
       "       'return_itm_180_dy_cnt', 'return_itm_30_dy_cnt', 'Tenure',\n",
       "       'MOBILITY_REGION_NAME_flagCentral', 'MOBILITY_REGION_NAME_flagEast',\n",
       "       'MOBILITY_REGION_NAME_flagWest', 'ACCT_STS_AT_CALL_DATE_flagN',\n",
       "       'ACCT_STS_AT_CALL_DATE_flagO', 'ACCT_STS_AT_CALL_DATE_flagS', 'BAN',\n",
       "       'labels'], dtype=object)"
      ]
     },
     "execution_count": 6,
     "metadata": {},
     "output_type": "execute_result"
    }
   ],
   "source": [
    "df.columns.values"
   ]
  },
  {
   "cell_type": "code",
   "execution_count": 7,
   "metadata": {
    "collapsed": true
   },
   "outputs": [],
   "source": [
    "df_ = df[cols]"
   ]
  },
  {
   "cell_type": "code",
   "execution_count": 8,
   "metadata": {
    "collapsed": true
   },
   "outputs": [],
   "source": [
    "# Run GMM \n",
    "from sklearn.mixture import GMM"
   ]
  },
  {
   "cell_type": "code",
   "execution_count": 16,
   "metadata": {
    "collapsed": true
   },
   "outputs": [
    {
     "name": "stderr",
     "output_type": "stream",
     "text": [
      "/opt/app/anaconda2/python36/lib/python3.6/site-packages/sklearn/utils/deprecation.py:52: DeprecationWarning: Class GMM is deprecated; The class GMM is deprecated in 0.18 and will be  removed in 0.20. Use class GaussianMixture instead.\n",
      "  warnings.warn(msg, category=DeprecationWarning)\n",
      "/opt/app/anaconda2/python36/lib/python3.6/site-packages/sklearn/utils/deprecation.py:70: DeprecationWarning: Function distribute_covar_matrix_to_match_covariance_type is deprecated; The functon distribute_covar_matrix_to_match_covariance_typeis deprecated in 0.18 and will be removed in 0.20.\n",
      "  warnings.warn(msg, category=DeprecationWarning)\n",
      "/opt/app/anaconda2/python36/lib/python3.6/site-packages/sklearn/utils/deprecation.py:70: DeprecationWarning: Function log_multivariate_normal_density is deprecated; The function log_multivariate_normal_density is deprecated in 0.18 and will be removed in 0.20.\n",
      "  warnings.warn(msg, category=DeprecationWarning)\n",
      "/opt/app/anaconda2/python36/lib/python3.6/site-packages/sklearn/utils/deprecation.py:70: DeprecationWarning: Function log_multivariate_normal_density is deprecated; The function log_multivariate_normal_density is deprecated in 0.18 and will be removed in 0.20.\n",
      "  warnings.warn(msg, category=DeprecationWarning)\n",
      "/opt/app/anaconda2/python36/lib/python3.6/site-packages/sklearn/utils/deprecation.py:70: DeprecationWarning: Function log_multivariate_normal_density is deprecated; The function log_multivariate_normal_density is deprecated in 0.18 and will be removed in 0.20.\n",
      "  warnings.warn(msg, category=DeprecationWarning)\n",
      "/opt/app/anaconda2/python36/lib/python3.6/site-packages/sklearn/utils/deprecation.py:70: DeprecationWarning: Function log_multivariate_normal_density is deprecated; The function log_multivariate_normal_density is deprecated in 0.18 and will be removed in 0.20.\n",
      "  warnings.warn(msg, category=DeprecationWarning)\n",
      "/opt/app/anaconda2/python36/lib/python3.6/site-packages/sklearn/utils/deprecation.py:70: DeprecationWarning: Function log_multivariate_normal_density is deprecated; The function log_multivariate_normal_density is deprecated in 0.18 and will be removed in 0.20.\n",
      "  warnings.warn(msg, category=DeprecationWarning)\n",
      "/opt/app/anaconda2/python36/lib/python3.6/site-packages/sklearn/utils/deprecation.py:70: DeprecationWarning: Function log_multivariate_normal_density is deprecated; The function log_multivariate_normal_density is deprecated in 0.18 and will be removed in 0.20.\n",
      "  warnings.warn(msg, category=DeprecationWarning)\n",
      "/opt/app/anaconda2/python36/lib/python3.6/site-packages/sklearn/utils/deprecation.py:70: DeprecationWarning: Function log_multivariate_normal_density is deprecated; The function log_multivariate_normal_density is deprecated in 0.18 and will be removed in 0.20.\n",
      "  warnings.warn(msg, category=DeprecationWarning)\n",
      "/opt/app/anaconda2/python36/lib/python3.6/site-packages/sklearn/utils/deprecation.py:70: DeprecationWarning: Function log_multivariate_normal_density is deprecated; The function log_multivariate_normal_density is deprecated in 0.18 and will be removed in 0.20.\n",
      "  warnings.warn(msg, category=DeprecationWarning)\n",
      "/opt/app/anaconda2/python36/lib/python3.6/site-packages/sklearn/utils/deprecation.py:70: DeprecationWarning: Function log_multivariate_normal_density is deprecated; The function log_multivariate_normal_density is deprecated in 0.18 and will be removed in 0.20.\n",
      "  warnings.warn(msg, category=DeprecationWarning)\n",
      "/opt/app/anaconda2/python36/lib/python3.6/site-packages/sklearn/utils/deprecation.py:70: DeprecationWarning: Function log_multivariate_normal_density is deprecated; The function log_multivariate_normal_density is deprecated in 0.18 and will be removed in 0.20.\n",
      "  warnings.warn(msg, category=DeprecationWarning)\n",
      "/opt/app/anaconda2/python36/lib/python3.6/site-packages/sklearn/utils/deprecation.py:70: DeprecationWarning: Function log_multivariate_normal_density is deprecated; The function log_multivariate_normal_density is deprecated in 0.18 and will be removed in 0.20.\n",
      "  warnings.warn(msg, category=DeprecationWarning)\n",
      "/opt/app/anaconda2/python36/lib/python3.6/site-packages/sklearn/utils/deprecation.py:70: DeprecationWarning: Function log_multivariate_normal_density is deprecated; The function log_multivariate_normal_density is deprecated in 0.18 and will be removed in 0.20.\n",
      "  warnings.warn(msg, category=DeprecationWarning)\n",
      "/opt/app/anaconda2/python36/lib/python3.6/site-packages/sklearn/utils/deprecation.py:70: DeprecationWarning: Function log_multivariate_normal_density is deprecated; The function log_multivariate_normal_density is deprecated in 0.18 and will be removed in 0.20.\n",
      "  warnings.warn(msg, category=DeprecationWarning)\n",
      "/opt/app/anaconda2/python36/lib/python3.6/site-packages/sklearn/utils/deprecation.py:70: DeprecationWarning: Function log_multivariate_normal_density is deprecated; The function log_multivariate_normal_density is deprecated in 0.18 and will be removed in 0.20.\n",
      "  warnings.warn(msg, category=DeprecationWarning)\n",
      "/opt/app/anaconda2/python36/lib/python3.6/site-packages/sklearn/utils/deprecation.py:70: DeprecationWarning: Function log_multivariate_normal_density is deprecated; The function log_multivariate_normal_density is deprecated in 0.18 and will be removed in 0.20.\n",
      "  warnings.warn(msg, category=DeprecationWarning)\n",
      "/opt/app/anaconda2/python36/lib/python3.6/site-packages/sklearn/utils/deprecation.py:70: DeprecationWarning: Function log_multivariate_normal_density is deprecated; The function log_multivariate_normal_density is deprecated in 0.18 and will be removed in 0.20.\n",
      "  warnings.warn(msg, category=DeprecationWarning)\n",
      "/opt/app/anaconda2/python36/lib/python3.6/site-packages/sklearn/utils/deprecation.py:70: DeprecationWarning: Function log_multivariate_normal_density is deprecated; The function log_multivariate_normal_density is deprecated in 0.18 and will be removed in 0.20.\n",
      "  warnings.warn(msg, category=DeprecationWarning)\n",
      "/opt/app/anaconda2/python36/lib/python3.6/site-packages/sklearn/utils/deprecation.py:70: DeprecationWarning: Function log_multivariate_normal_density is deprecated; The function log_multivariate_normal_density is deprecated in 0.18 and will be removed in 0.20.\n",
      "  warnings.warn(msg, category=DeprecationWarning)\n",
      "/opt/app/anaconda2/python36/lib/python3.6/site-packages/sklearn/utils/deprecation.py:70: DeprecationWarning: Function log_multivariate_normal_density is deprecated; The function log_multivariate_normal_density is deprecated in 0.18 and will be removed in 0.20.\n",
      "  warnings.warn(msg, category=DeprecationWarning)\n",
      "/opt/app/anaconda2/python36/lib/python3.6/site-packages/sklearn/utils/deprecation.py:70: DeprecationWarning: Function log_multivariate_normal_density is deprecated; The function log_multivariate_normal_density is deprecated in 0.18 and will be removed in 0.20.\n",
      "  warnings.warn(msg, category=DeprecationWarning)\n",
      "/opt/app/anaconda2/python36/lib/python3.6/site-packages/sklearn/utils/deprecation.py:70: DeprecationWarning: Function log_multivariate_normal_density is deprecated; The function log_multivariate_normal_density is deprecated in 0.18 and will be removed in 0.20.\n",
      "  warnings.warn(msg, category=DeprecationWarning)\n",
      "/opt/app/anaconda2/python36/lib/python3.6/site-packages/sklearn/utils/deprecation.py:70: DeprecationWarning: Function log_multivariate_normal_density is deprecated; The function log_multivariate_normal_density is deprecated in 0.18 and will be removed in 0.20.\n",
      "  warnings.warn(msg, category=DeprecationWarning)\n",
      "/opt/app/anaconda2/python36/lib/python3.6/site-packages/sklearn/utils/deprecation.py:70: DeprecationWarning: Function log_multivariate_normal_density is deprecated; The function log_multivariate_normal_density is deprecated in 0.18 and will be removed in 0.20.\n",
      "  warnings.warn(msg, category=DeprecationWarning)\n",
      "/opt/app/anaconda2/python36/lib/python3.6/site-packages/sklearn/utils/deprecation.py:70: DeprecationWarning: Function log_multivariate_normal_density is deprecated; The function log_multivariate_normal_density is deprecated in 0.18 and will be removed in 0.20.\n",
      "  warnings.warn(msg, category=DeprecationWarning)\n"
     ]
    },
    {
     "name": "stdout",
     "output_type": "stream",
     "text": [
      "CPU times: user 2min 44s, sys: 24 s, total: 3min 8s\n",
      "Wall time: 50.1 s\n"
     ]
    }
   ],
   "source": [
    "%%time\n",
    "gmm = GMM(n_components=6).fit(df_)\n",
    "labels = gmm.predict(df_)"
   ]
  },
  {
   "cell_type": "code",
   "execution_count": 17,
   "metadata": {
    "collapsed": true
   },
   "outputs": [],
   "source": [
    "cluster_normalized = df_.copy()"
   ]
  },
  {
   "cell_type": "code",
   "execution_count": 18,
   "metadata": {
    "collapsed": true
   },
   "outputs": [],
   "source": [
    "cluster_normalized['labels'] = labels"
   ]
  },
  {
   "cell_type": "code",
   "execution_count": 19,
   "metadata": {
    "collapsed": false
   },
   "outputs": [],
   "source": [
    "c1 = cluster_normalized.loc[cluster_normalized['labels'] == 0]\n",
    "c2 = cluster_normalized.loc[cluster_normalized['labels'] == 1]\n",
    "c3 = cluster_normalized.loc[cluster_normalized['labels'] == 2]\n",
    "c4 = cluster_normalized.loc[cluster_normalized['labels'] == 3]\n",
    "c5 = cluster_normalized.loc[cluster_normalized['labels'] == 4]\n",
    "c6 = cluster_normalized.loc[cluster_normalized['labels'] == 5]"
   ]
  },
  {
   "cell_type": "code",
   "execution_count": 20,
   "metadata": {
    "collapsed": false
   },
   "outputs": [
    {
     "data": {
      "text/plain": [
       "3   0.34\n",
       "5   0.26\n",
       "1   0.15\n",
       "0   0.14\n",
       "2   0.07\n",
       "4   0.04\n",
       "Name: labels, dtype: float64"
      ]
     },
     "execution_count": 20,
     "metadata": {},
     "output_type": "execute_result"
    }
   ],
   "source": [
    "cluster_normalized['labels'].value_counts()/len(cluster_normalized)"
   ]
  },
  {
   "cell_type": "code",
   "execution_count": null,
   "metadata": {
    "collapsed": true
   },
   "outputs": [],
   "source": []
  },
  {
   "cell_type": "code",
   "execution_count": null,
   "metadata": {
    "collapsed": true
   },
   "outputs": [],
   "source": []
  },
  {
   "cell_type": "code",
   "execution_count": 24,
   "metadata": {
    "collapsed": true
   },
   "outputs": [],
   "source": [
    "df = cluster_normalized.drop('labels', axis = 1)"
   ]
  },
  {
   "cell_type": "code",
   "execution_count": 34,
   "metadata": {
    "collapsed": true
   },
   "outputs": [
    {
     "data": {
      "text/plain": [
       "TOT_DUE_AMT                         9.09\n",
       "Promise_%                          63.69\n",
       "A_avg                              76.00\n",
       "P_avg                              99.09\n",
       "BAN                                57.30\n",
       "acct_bhvr_scr_nbr                  98.03\n",
       "ar_bhvr_scr_nbr                    97.95\n",
       "avg_paid_full_dy_cnt                8.73\n",
       "crdt_buru_scr_nbr                  83.87\n",
       "cust_bhvr_scr_nbr                  98.27\n",
       "cust_recls_scr_nbr                 89.64\n",
       "pmt_arng_scr_nbr                   82.87\n",
       "wirls_ln_cnt                        0.56\n",
       "excpt_ovrd_ind                      0.75\n",
       "pyarr_scr_nbr                      82.87\n",
       "lst_bhvr_scr_nbr                   77.48\n",
       "preferred_month_CALL_DT            60.62\n",
       "preferred_day_of_monthCALL_DT      56.81\n",
       "preferred_weekdayCALL_DT           42.45\n",
       "return_itm_180_dy_cnt               0.45\n",
       "return_itm_30_dy_cnt                0.27\n",
       "Tenure                             21.54\n",
       "MOBILITY_REGION_NAME_flagCentral   36.56\n",
       "MOBILITY_REGION_NAME_flagEast      44.19\n",
       "MOBILITY_REGION_NAME_flagWest      19.25\n",
       "ACCT_STS_AT_CALL_DATE_flagN         0.21\n",
       "ACCT_STS_AT_CALL_DATE_flagO        99.60\n",
       "ACCT_STS_AT_CALL_DATE_flagS         0.20\n",
       "dtype: float64"
      ]
     },
     "execution_count": 34,
     "metadata": {},
     "output_type": "execute_result"
    }
   ],
   "source": [
    "df_.mean()"
   ]
  },
  {
   "cell_type": "code",
   "execution_count": 36,
   "metadata": {
    "collapsed": true
   },
   "outputs": [],
   "source": [
    "df_.to_csv('../../0.Data/1.Interim/New/merge_normalized.csv', index = False)"
   ]
  },
  {
   "cell_type": "code",
   "execution_count": 38,
   "metadata": {
    "collapsed": true
   },
   "outputs": [],
   "source": [
    "cluster_normalized.to_csv('../../0.Data/1.Interim/New/cluster_normalized.csv', index = False)"
   ]
  },
  {
   "cell_type": "code",
   "execution_count": 37,
   "metadata": {
    "collapsed": false
   },
   "outputs": [
    {
     "data": {
      "text/plain": [
       "array(['TOT_DUE_AMT', 'Promise_%', 'A_avg', 'P_avg', 'BAN',\n",
       "       'acct_bhvr_scr_nbr', 'ar_bhvr_scr_nbr', 'avg_paid_full_dy_cnt',\n",
       "       'crdt_buru_scr_nbr', 'cust_bhvr_scr_nbr', 'cust_recls_scr_nbr',\n",
       "       'pmt_arng_scr_nbr', 'wirls_ln_cnt', 'excpt_ovrd_ind',\n",
       "       'pyarr_scr_nbr', 'lst_bhvr_scr_nbr', 'preferred_month_CALL_DT',\n",
       "       'preferred_day_of_monthCALL_DT', 'preferred_weekdayCALL_DT',\n",
       "       'return_itm_180_dy_cnt', 'return_itm_30_dy_cnt', 'Tenure',\n",
       "       'MOBILITY_REGION_NAME_flagCentral', 'MOBILITY_REGION_NAME_flagEast',\n",
       "       'MOBILITY_REGION_NAME_flagWest', 'ACCT_STS_AT_CALL_DATE_flagN',\n",
       "       'ACCT_STS_AT_CALL_DATE_flagO', 'ACCT_STS_AT_CALL_DATE_flagS',\n",
       "       'labels'], dtype=object)"
      ]
     },
     "execution_count": 37,
     "metadata": {},
     "output_type": "execute_result"
    }
   ],
   "source": [
    "cluster_normalized.columns.values"
   ]
  },
  {
   "cell_type": "code",
   "execution_count": 25,
   "metadata": {
    "collapsed": false
   },
   "outputs": [
    {
     "data": {
      "text/plain": [
       "array(['TOT_DUE_AMT', 'Promise_%', 'A_avg', 'P_avg', 'BAN',\n",
       "       'acct_bhvr_scr_nbr', 'ar_bhvr_scr_nbr', 'avg_paid_full_dy_cnt',\n",
       "       'crdt_buru_scr_nbr', 'cust_bhvr_scr_nbr', 'cust_recls_scr_nbr',\n",
       "       'pmt_arng_scr_nbr', 'wirls_ln_cnt', 'excpt_ovrd_ind',\n",
       "       'pyarr_scr_nbr', 'lst_bhvr_scr_nbr', 'preferred_month_CALL_DT',\n",
       "       'preferred_day_of_monthCALL_DT', 'preferred_weekdayCALL_DT',\n",
       "       'return_itm_180_dy_cnt', 'return_itm_30_dy_cnt', 'Tenure',\n",
       "       'MOBILITY_REGION_NAME_flagCentral', 'MOBILITY_REGION_NAME_flagEast',\n",
       "       'MOBILITY_REGION_NAME_flagWest', 'ACCT_STS_AT_CALL_DATE_flagN',\n",
       "       'ACCT_STS_AT_CALL_DATE_flagO', 'ACCT_STS_AT_CALL_DATE_flagS'], dtype=object)"
      ]
     },
     "execution_count": 25,
     "metadata": {},
     "output_type": "execute_result"
    }
   ],
   "source": [
    "df.columns.values"
   ]
  },
  {
   "cell_type": "code",
   "execution_count": 27,
   "metadata": {
    "collapsed": false
   },
   "outputs": [],
   "source": [
    "cluster_grp = []\n",
    "for col in df.columns.values.tolist():\n",
    "    orig = round(df[col].mean(),2)\n",
    "    c1_val = round(c1[col].mean(),2)\n",
    "    c2_val = round(c2[col].mean(),2)\n",
    "    c3_val = round(c3[col].mean(),2)\n",
    "    c4_val = round(c4[col].mean(),2)\n",
    "    c5_val = round(c5[col].mean(),2)\n",
    "    c6_val = round(c6[col].mean(),2)\n",
    "    if(orig == 0):\n",
    "        c1_change = None\n",
    "        c2_change = None\n",
    "        c3_change = None\n",
    "        c4_change = None\n",
    "        c5_change = None\n",
    "        c6_change = None\n",
    "    else:\n",
    "        c1_change = round(((c1_val-orig)*100/orig),2)\n",
    "        c2_change = round(((c2_val-orig)*100/orig),2)\n",
    "        c3_change = round(((c3_val-orig)*100/orig),2)\n",
    "        c4_change = round(((c4_val-orig)*100/orig),2)\n",
    "        c5_change = round(((c5_val-orig)*100/orig),2)\n",
    "        c6_change = round(((c6_val-orig)*100/orig),2)\n",
    "    cluster_grp.append((col, orig, c1_val, c1_change , c2_val, c2_change, c3_val, c3_change, c4_val, c4_change, c5_val, c5_change,\\\n",
    "                       c6_val, c6_change))\n",
    "\n"
   ]
  },
  {
   "cell_type": "code",
   "execution_count": 28,
   "metadata": {
    "collapsed": false
   },
   "outputs": [],
   "source": [
    "cluster_group = pd.DataFrame(cluster_grp, columns = ['Column', 'Entire dataset value', 'c1_value', 'c1_change_%', \\\n",
    "                'c2_value', 'c2_change_%', 'c3_value', 'c3_change_%', 'c4_value', 'c4_change_%', \\\n",
    "                'c5_value', 'c5_change_%', 'c6_value' , 'c6_change_%'])"
   ]
  },
  {
   "cell_type": "code",
   "execution_count": 29,
   "metadata": {
    "collapsed": false
   },
   "outputs": [
    {
     "data": {
      "text/plain": [
       "28"
      ]
     },
     "execution_count": 29,
     "metadata": {},
     "output_type": "execute_result"
    }
   ],
   "source": [
    "len(cluster_group)"
   ]
  },
  {
   "cell_type": "code",
   "execution_count": 30,
   "metadata": {
    "collapsed": true
   },
   "outputs": [],
   "source": [
    "cluster_group.to_csv('../3.Analysis/cluster_gmm_1_normalized.csv', index = False)"
   ]
  },
  {
   "cell_type": "code",
   "execution_count": 45,
   "metadata": {
    "collapsed": false
   },
   "outputs": [
    {
     "data": {
      "text/plain": [
       "array(['TOT_DUE_AMT', 'Promise_%', 'A_avg', 'P_avg', 'BAN',\n",
       "       'acct_bhvr_scr_nbr', 'ar_bhvr_scr_nbr', 'avg_paid_full_dy_cnt',\n",
       "       'crdt_buru_scr_nbr', 'cust_bhvr_scr_nbr', 'cust_recls_scr_nbr',\n",
       "       'pmt_arng_scr_nbr', 'wirls_ln_cnt', 'excpt_ovrd_ind',\n",
       "       'pyarr_scr_nbr', 'lst_bhvr_scr_nbr', 'preferred_month_CALL_DT',\n",
       "       'preferred_day_of_monthCALL_DT', 'preferred_weekdayCALL_DT',\n",
       "       'return_itm_180_dy_cnt', 'return_itm_30_dy_cnt', 'Tenure',\n",
       "       'MOBILITY_REGION_NAME_flagCentral', 'MOBILITY_REGION_NAME_flagEast',\n",
       "       'MOBILITY_REGION_NAME_flagWest', 'ACCT_STS_AT_CALL_DATE_flagN',\n",
       "       'ACCT_STS_AT_CALL_DATE_flagO', 'ACCT_STS_AT_CALL_DATE_flagS'], dtype=object)"
      ]
     },
     "execution_count": 45,
     "metadata": {},
     "output_type": "execute_result"
    }
   ],
   "source": [
    "df_.columns.values"
   ]
  },
  {
   "cell_type": "code",
   "execution_count": 57,
   "metadata": {
    "collapsed": false
   },
   "outputs": [
    {
     "data": {
      "text/plain": [
       "0.00     0.96\n",
       "6.67     0.03\n",
       "13.33    0.00\n",
       "20.00    0.00\n",
       "26.67    0.00\n",
       "33.33    0.00\n",
       "40.00    0.00\n",
       "46.67    0.00\n",
       "93.33    0.00\n",
       "100.00   0.00\n",
       "53.33    0.00\n",
       "Name: return_itm_30_dy_cnt, dtype: float64"
      ]
     },
     "execution_count": 57,
     "metadata": {},
     "output_type": "execute_result"
    }
   ],
   "source": [
    "df_.return_itm_30_dy_cnt.value_counts()/len(df_)"
   ]
  },
  {
   "cell_type": "code",
   "execution_count": 47,
   "metadata": {
    "collapsed": false
   },
   "outputs": [],
   "source": [
    "df_['labels'] = labels"
   ]
  },
  {
   "cell_type": "code",
   "execution_count": 48,
   "metadata": {
    "collapsed": true
   },
   "outputs": [],
   "source": [
    "c1_ = df_.loc[df_['labels'] == 0]\n",
    "c2_ = df_.loc[df_['labels'] == 1]\n",
    "c3_ = df_.loc[df_['labels'] == 2]\n",
    "c4_ = df_.loc[df_['labels'] == 3]\n",
    "c5_ = df_.loc[df_['labels'] == 4]\n",
    "c6_ = df_.loc[df_['labels'] == 5]"
   ]
  },
  {
   "cell_type": "code",
   "execution_count": 51,
   "metadata": {
    "collapsed": false
   },
   "outputs": [
    {
     "data": {
      "text/plain": [
       "54.54545454545454"
      ]
     },
     "execution_count": 51,
     "metadata": {},
     "output_type": "execute_result"
    }
   ],
   "source": [
    "c5_.wirls_ln_cnt.max()"
   ]
  },
  {
   "cell_type": "code",
   "execution_count": 52,
   "metadata": {
    "collapsed": false
   },
   "outputs": [
    {
     "data": {
      "text/plain": [
       "0.0"
      ]
     },
     "execution_count": 52,
     "metadata": {},
     "output_type": "execute_result"
    }
   ],
   "source": [
    "c5_.wirls_ln_cnt.min()"
   ]
  },
  {
   "cell_type": "code",
   "execution_count": 53,
   "metadata": {
    "collapsed": true
   },
   "outputs": [
    {
     "data": {
      "text/plain": [
       "0.17     368\n",
       "0.00     347\n",
       "0.34     314\n",
       "0.51     278\n",
       "0.69     214\n",
       "0.86     189\n",
       "1.03     122\n",
       "1.20      80\n",
       "1.37      51\n",
       "1.54      34\n",
       "1.72      31\n",
       "1.89      16\n",
       "2.23      16\n",
       "2.40      16\n",
       "3.43      14\n",
       "3.95      13\n",
       "2.74      13\n",
       "2.92      11\n",
       "3.09      10\n",
       "2.06       9\n",
       "3.26       7\n",
       "4.29       7\n",
       "2.57       7\n",
       "3.77       6\n",
       "5.15       6\n",
       "4.12       6\n",
       "3.60       6\n",
       "4.63       5\n",
       "5.83       4\n",
       "5.66       3\n",
       "5.49       3\n",
       "4.80       3\n",
       "8.06       3\n",
       "4.97       3\n",
       "6.35       2\n",
       "6.86       2\n",
       "5.32       2\n",
       "6.17       2\n",
       "7.03       1\n",
       "17.50      1\n",
       "10.81      1\n",
       "16.12      1\n",
       "4.46       1\n",
       "6.69       1\n",
       "6.00       1\n",
       "14.07      1\n",
       "10.12      1\n",
       "32.59      1\n",
       "8.40       1\n",
       "10.46      1\n",
       "13.89      1\n",
       "11.84      1\n",
       "54.55      1\n",
       "14.75      1\n",
       "11.15      1\n",
       "20.41      1\n",
       "9.43       1\n",
       "6.52       1\n",
       "23.67      1\n",
       "29.33      1\n",
       "12.01      1\n",
       "8.23       1\n",
       "19.38      1\n",
       "19.90      1\n",
       "7.38       1\n",
       "7.55       1\n",
       "22.30      1\n",
       "9.61       1\n",
       "7.72       1\n",
       "9.95       1\n",
       "12.86      1\n",
       "Name: wirls_ln_cnt, dtype: int64"
      ]
     },
     "execution_count": 53,
     "metadata": {},
     "output_type": "execute_result"
    }
   ],
   "source": [
    "c5_.wirls_ln_cnt.value_counts()"
   ]
  },
  {
   "cell_type": "code",
   "execution_count": null,
   "metadata": {
    "collapsed": true
   },
   "outputs": [],
   "source": []
  }
 ],
 "metadata": {
  "kernelspec": {
   "display_name": "Python 3",
   "language": "python",
   "name": "python3"
  },
  "language_info": {
   "codemirror_mode": {
    "name": "ipython",
    "version": 3
   },
   "file_extension": ".py",
   "mimetype": "text/x-python",
   "name": "python",
   "nbconvert_exporter": "python",
   "pygments_lexer": "ipython3",
   "version": "3.6.0"
  }
 },
 "nbformat": 4,
 "nbformat_minor": 1
}

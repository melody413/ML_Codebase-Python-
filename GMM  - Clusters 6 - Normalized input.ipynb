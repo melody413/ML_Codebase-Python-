{
 "cells": [
  {
   "cell_type": "code",
   "execution_count": 1,
   "metadata": {
    "collapsed": true
   },
   "outputs": [],
   "source": [
    "import pandas as pd"
   ]
  },
  {
   "cell_type": "code",
   "execution_count": 2,
   "metadata": {
    "collapsed": true
   },
   "outputs": [],
   "source": [
    "pd.options.display.max_rows = 4000\n",
    "pd.set_option('display.float_format', lambda x: '%.2f' % x)"
   ]
  },
  {
   "cell_type": "code",
   "execution_count": 3,
   "metadata": {
    "collapsed": false,
    "scrolled": true
   },
   "outputs": [],
   "source": [
    "df = pd.read_csv('../../0.Data/1.Interim/New/cluster.csv')"
   ]
  },
  {
   "cell_type": "code",
   "execution_count": 4,
   "metadata": {
    "collapsed": true
   },
   "outputs": [],
   "source": [
    "cols = ['TOT_DUE_AMT', 'Promise_%', 'A_avg', 'P_avg', 'BAN',\n",
    "       'acct_bhvr_scr_nbr', 'ar_bhvr_scr_nbr', 'avg_paid_full_dy_cnt',\n",
    "       'crdt_buru_scr_nbr', 'cust_bhvr_scr_nbr', 'cust_recls_scr_nbr',\n",
    "       'pmt_arng_scr_nbr', 'wirls_ln_cnt', 'excpt_ovrd_ind',\n",
    "       'pyarr_scr_nbr', 'lst_bhvr_scr_nbr', 'preferred_month_CALL_DT',\n",
    "       'preferred_day_of_monthCALL_DT', 'preferred_weekdayCALL_DT',\n",
    "       'return_itm_180_dy_cnt', 'return_itm_30_dy_cnt', 'Tenure',\n",
    "       'MOBILITY_REGION_NAME_flagCentral', 'MOBILITY_REGION_NAME_flagEast',\n",
    "       'MOBILITY_REGION_NAME_flagWest', 'ACCT_STS_AT_CALL_DATE_flagN',\n",
    "       'ACCT_STS_AT_CALL_DATE_flagO', 'ACCT_STS_AT_CALL_DATE_flagS']"
   ]
  },
  {
   "cell_type": "code",
   "execution_count": 5,
   "metadata": {
    "collapsed": false
   },
   "outputs": [
    {
     "data": {
      "text/plain": [
       "array(['TOT_DUE_AMT', 'Promise_%', 'Adjust_%', 'A_avg', 'P_avg',\n",
       "       'acct_bhvr_scr_nbr', 'ar_bhvr_scr_nbr', 'avg_paid_full_dy_cnt',\n",
       "       'crdt_buru_scr_nbr', 'cust_bhvr_scr_nbr', 'cust_recls_scr_nbr',\n",
       "       'pmt_arng_scr_nbr', 'wirls_ln_cnt', 'excpt_ovrd_ind',\n",
       "       'pyarr_scr_nbr', 'lst_bhvr_scr_nbr', 'preferred_month_CALL_DT',\n",
       "       'preferred_day_of_monthCALL_DT', 'preferred_weekdayCALL_DT',\n",
       "       'return_itm_180_dy_cnt', 'return_itm_30_dy_cnt', 'Tenure',\n",
       "       'MOBILITY_REGION_NAME_flagCentral', 'MOBILITY_REGION_NAME_flagEast',\n",
       "       'MOBILITY_REGION_NAME_flagWest', 'ACCT_STS_AT_CALL_DATE_flagN',\n",
       "       'ACCT_STS_AT_CALL_DATE_flagO', 'ACCT_STS_AT_CALL_DATE_flagS', 'BAN',\n",
       "       'labels'], dtype=object)"
      ]
     },
     "execution_count": 5,
     "metadata": {},
     "output_type": "execute_result"
    }
   ],
   "source": [
    "df.columns.values"
   ]
  },
  {
   "cell_type": "code",
   "execution_count": 6,
   "metadata": {
    "collapsed": true
   },
   "outputs": [],
   "source": [
    "df_ = df[cols]"
   ]
  },
  {
   "cell_type": "code",
   "execution_count": 8,
   "metadata": {
    "collapsed": true
   },
   "outputs": [],
   "source": [
    "df_ =((df_-df_.min())/(df_.max()-df_.min()))*100"
   ]
  },
  {
   "cell_type": "code",
   "execution_count": 17,
   "metadata": {
    "collapsed": false
   },
   "outputs": [
    {
     "data": {
      "text/html": [
       "<div>\n",
       "<table border=\"1\" class=\"dataframe\">\n",
       "  <thead>\n",
       "    <tr style=\"text-align: right;\">\n",
       "      <th></th>\n",
       "      <th>TOT_DUE_AMT</th>\n",
       "      <th>Promise_%</th>\n",
       "      <th>A_avg</th>\n",
       "      <th>P_avg</th>\n",
       "      <th>BAN</th>\n",
       "      <th>acct_bhvr_scr_nbr</th>\n",
       "      <th>ar_bhvr_scr_nbr</th>\n",
       "      <th>avg_paid_full_dy_cnt</th>\n",
       "      <th>crdt_buru_scr_nbr</th>\n",
       "      <th>cust_bhvr_scr_nbr</th>\n",
       "      <th>...</th>\n",
       "      <th>preferred_weekdayCALL_DT</th>\n",
       "      <th>return_itm_180_dy_cnt</th>\n",
       "      <th>return_itm_30_dy_cnt</th>\n",
       "      <th>Tenure</th>\n",
       "      <th>MOBILITY_REGION_NAME_flagCentral</th>\n",
       "      <th>MOBILITY_REGION_NAME_flagEast</th>\n",
       "      <th>MOBILITY_REGION_NAME_flagWest</th>\n",
       "      <th>ACCT_STS_AT_CALL_DATE_flagN</th>\n",
       "      <th>ACCT_STS_AT_CALL_DATE_flagO</th>\n",
       "      <th>ACCT_STS_AT_CALL_DATE_flagS</th>\n",
       "    </tr>\n",
       "  </thead>\n",
       "  <tbody>\n",
       "    <tr>\n",
       "      <th>0</th>\n",
       "      <td>9.17</td>\n",
       "      <td>50.00</td>\n",
       "      <td>76.00</td>\n",
       "      <td>99.05</td>\n",
       "      <td>24.89</td>\n",
       "      <td>100.00</td>\n",
       "      <td>100.00</td>\n",
       "      <td>4.98</td>\n",
       "      <td>91.41</td>\n",
       "      <td>100.00</td>\n",
       "      <td>...</td>\n",
       "      <td>33.33</td>\n",
       "      <td>0.00</td>\n",
       "      <td>0.00</td>\n",
       "      <td>17.27</td>\n",
       "      <td>100.00</td>\n",
       "      <td>0.00</td>\n",
       "      <td>0.00</td>\n",
       "      <td>0.00</td>\n",
       "      <td>100.00</td>\n",
       "      <td>0.00</td>\n",
       "    </tr>\n",
       "    <tr>\n",
       "      <th>1</th>\n",
       "      <td>9.09</td>\n",
       "      <td>89.47</td>\n",
       "      <td>76.32</td>\n",
       "      <td>99.39</td>\n",
       "      <td>88.55</td>\n",
       "      <td>100.00</td>\n",
       "      <td>100.00</td>\n",
       "      <td>5.27</td>\n",
       "      <td>79.96</td>\n",
       "      <td>100.00</td>\n",
       "      <td>...</td>\n",
       "      <td>66.67</td>\n",
       "      <td>4.35</td>\n",
       "      <td>0.00</td>\n",
       "      <td>36.92</td>\n",
       "      <td>0.00</td>\n",
       "      <td>100.00</td>\n",
       "      <td>0.00</td>\n",
       "      <td>0.00</td>\n",
       "      <td>100.00</td>\n",
       "      <td>0.00</td>\n",
       "    </tr>\n",
       "    <tr>\n",
       "      <th>2</th>\n",
       "      <td>9.22</td>\n",
       "      <td>40.00</td>\n",
       "      <td>75.89</td>\n",
       "      <td>98.69</td>\n",
       "      <td>0.06</td>\n",
       "      <td>100.00</td>\n",
       "      <td>100.00</td>\n",
       "      <td>3.91</td>\n",
       "      <td>93.05</td>\n",
       "      <td>100.00</td>\n",
       "      <td>...</td>\n",
       "      <td>66.67</td>\n",
       "      <td>0.00</td>\n",
       "      <td>0.00</td>\n",
       "      <td>79.46</td>\n",
       "      <td>100.00</td>\n",
       "      <td>0.00</td>\n",
       "      <td>0.00</td>\n",
       "      <td>0.00</td>\n",
       "      <td>100.00</td>\n",
       "      <td>0.00</td>\n",
       "    </tr>\n",
       "    <tr>\n",
       "      <th>3</th>\n",
       "      <td>8.99</td>\n",
       "      <td>45.00</td>\n",
       "      <td>76.00</td>\n",
       "      <td>99.44</td>\n",
       "      <td>0.13</td>\n",
       "      <td>70.14</td>\n",
       "      <td>62.53</td>\n",
       "      <td>6.64</td>\n",
       "      <td>0.00</td>\n",
       "      <td>100.00</td>\n",
       "      <td>...</td>\n",
       "      <td>66.67</td>\n",
       "      <td>4.35</td>\n",
       "      <td>0.00</td>\n",
       "      <td>28.27</td>\n",
       "      <td>0.00</td>\n",
       "      <td>100.00</td>\n",
       "      <td>0.00</td>\n",
       "      <td>0.00</td>\n",
       "      <td>100.00</td>\n",
       "      <td>0.00</td>\n",
       "    </tr>\n",
       "    <tr>\n",
       "      <th>4</th>\n",
       "      <td>9.09</td>\n",
       "      <td>50.00</td>\n",
       "      <td>76.01</td>\n",
       "      <td>99.38</td>\n",
       "      <td>72.30</td>\n",
       "      <td>100.00</td>\n",
       "      <td>100.00</td>\n",
       "      <td>3.03</td>\n",
       "      <td>64.11</td>\n",
       "      <td>100.00</td>\n",
       "      <td>...</td>\n",
       "      <td>66.67</td>\n",
       "      <td>0.00</td>\n",
       "      <td>0.00</td>\n",
       "      <td>0.58</td>\n",
       "      <td>0.00</td>\n",
       "      <td>100.00</td>\n",
       "      <td>0.00</td>\n",
       "      <td>0.00</td>\n",
       "      <td>100.00</td>\n",
       "      <td>0.00</td>\n",
       "    </tr>\n",
       "  </tbody>\n",
       "</table>\n",
       "<p>5 rows × 28 columns</p>\n",
       "</div>"
      ],
      "text/plain": [
       "   TOT_DUE_AMT  Promise_%  A_avg  P_avg   BAN  acct_bhvr_scr_nbr  \\\n",
       "0         9.17      50.00  76.00  99.05 24.89             100.00   \n",
       "1         9.09      89.47  76.32  99.39 88.55             100.00   \n",
       "2         9.22      40.00  75.89  98.69  0.06             100.00   \n",
       "3         8.99      45.00  76.00  99.44  0.13              70.14   \n",
       "4         9.09      50.00  76.01  99.38 72.30             100.00   \n",
       "\n",
       "   ar_bhvr_scr_nbr  avg_paid_full_dy_cnt  crdt_buru_scr_nbr  \\\n",
       "0           100.00                  4.98              91.41   \n",
       "1           100.00                  5.27              79.96   \n",
       "2           100.00                  3.91              93.05   \n",
       "3            62.53                  6.64               0.00   \n",
       "4           100.00                  3.03              64.11   \n",
       "\n",
       "   cust_bhvr_scr_nbr             ...               preferred_weekdayCALL_DT  \\\n",
       "0             100.00             ...                                  33.33   \n",
       "1             100.00             ...                                  66.67   \n",
       "2             100.00             ...                                  66.67   \n",
       "3             100.00             ...                                  66.67   \n",
       "4             100.00             ...                                  66.67   \n",
       "\n",
       "   return_itm_180_dy_cnt  return_itm_30_dy_cnt  Tenure  \\\n",
       "0                   0.00                  0.00   17.27   \n",
       "1                   4.35                  0.00   36.92   \n",
       "2                   0.00                  0.00   79.46   \n",
       "3                   4.35                  0.00   28.27   \n",
       "4                   0.00                  0.00    0.58   \n",
       "\n",
       "   MOBILITY_REGION_NAME_flagCentral  MOBILITY_REGION_NAME_flagEast  \\\n",
       "0                            100.00                           0.00   \n",
       "1                              0.00                         100.00   \n",
       "2                            100.00                           0.00   \n",
       "3                              0.00                         100.00   \n",
       "4                              0.00                         100.00   \n",
       "\n",
       "   MOBILITY_REGION_NAME_flagWest  ACCT_STS_AT_CALL_DATE_flagN  \\\n",
       "0                           0.00                         0.00   \n",
       "1                           0.00                         0.00   \n",
       "2                           0.00                         0.00   \n",
       "3                           0.00                         0.00   \n",
       "4                           0.00                         0.00   \n",
       "\n",
       "   ACCT_STS_AT_CALL_DATE_flagO  ACCT_STS_AT_CALL_DATE_flagS  \n",
       "0                       100.00                         0.00  \n",
       "1                       100.00                         0.00  \n",
       "2                       100.00                         0.00  \n",
       "3                       100.00                         0.00  \n",
       "4                       100.00                         0.00  \n",
       "\n",
       "[5 rows x 28 columns]"
      ]
     },
     "execution_count": 17,
     "metadata": {},
     "output_type": "execute_result"
    }
   ],
   "source": [
    "df_.head()"
   ]
  },
  {
   "cell_type": "code",
   "execution_count": 10,
   "metadata": {
    "collapsed": true
   },
   "outputs": [],
   "source": [
    "# Run GMM \n",
    "from sklearn.mixture import GMM"
   ]
  },
  {
   "cell_type": "code",
   "execution_count": 11,
   "metadata": {
    "collapsed": false
   },
   "outputs": [
    {
     "name": "stderr",
     "output_type": "stream",
     "text": [
      "/opt/app/anaconda2/python36/lib/python3.6/site-packages/sklearn/utils/deprecation.py:52: DeprecationWarning: Class GMM is deprecated; The class GMM is deprecated in 0.18 and will be  removed in 0.20. Use class GaussianMixture instead.\n",
      "  warnings.warn(msg, category=DeprecationWarning)\n"
     ]
    },
    {
     "ename": "KeyboardInterrupt",
     "evalue": "",
     "output_type": "error",
     "traceback": [
      "\u001b[0;31m---------------------------------------------------------------------------\u001b[0m",
      "\u001b[0;31mKeyboardInterrupt\u001b[0m                         Traceback (most recent call last)",
      "\u001b[0;32m<ipython-input-11-b31657582bad>\u001b[0m in \u001b[0;36m<module>\u001b[0;34m()\u001b[0m\n\u001b[0;32m----> 1\u001b[0;31m \u001b[0mget_ipython\u001b[0m\u001b[0;34m(\u001b[0m\u001b[0;34m)\u001b[0m\u001b[0;34m.\u001b[0m\u001b[0mrun_cell_magic\u001b[0m\u001b[0;34m(\u001b[0m\u001b[0;34m'time'\u001b[0m\u001b[0;34m,\u001b[0m \u001b[0;34m''\u001b[0m\u001b[0;34m,\u001b[0m \u001b[0;34m'gmm = GMM(n_components=9).fit(df_)\\nlabels = gmm.predict(df_)'\u001b[0m\u001b[0;34m)\u001b[0m\u001b[0;34m\u001b[0m\u001b[0m\n\u001b[0m",
      "\u001b[0;32m/opt/app/anaconda2/python36/lib/python3.6/site-packages/IPython/core/interactiveshell.py\u001b[0m in \u001b[0;36mrun_cell_magic\u001b[0;34m(self, magic_name, line, cell)\u001b[0m\n\u001b[1;32m   2113\u001b[0m             \u001b[0mmagic_arg_s\u001b[0m \u001b[0;34m=\u001b[0m \u001b[0mself\u001b[0m\u001b[0;34m.\u001b[0m\u001b[0mvar_expand\u001b[0m\u001b[0;34m(\u001b[0m\u001b[0mline\u001b[0m\u001b[0;34m,\u001b[0m \u001b[0mstack_depth\u001b[0m\u001b[0;34m)\u001b[0m\u001b[0;34m\u001b[0m\u001b[0m\n\u001b[1;32m   2114\u001b[0m             \u001b[0;32mwith\u001b[0m \u001b[0mself\u001b[0m\u001b[0;34m.\u001b[0m\u001b[0mbuiltin_trap\u001b[0m\u001b[0;34m:\u001b[0m\u001b[0;34m\u001b[0m\u001b[0m\n\u001b[0;32m-> 2115\u001b[0;31m                 \u001b[0mresult\u001b[0m \u001b[0;34m=\u001b[0m \u001b[0mfn\u001b[0m\u001b[0;34m(\u001b[0m\u001b[0mmagic_arg_s\u001b[0m\u001b[0;34m,\u001b[0m \u001b[0mcell\u001b[0m\u001b[0;34m)\u001b[0m\u001b[0;34m\u001b[0m\u001b[0m\n\u001b[0m\u001b[1;32m   2116\u001b[0m             \u001b[0;32mreturn\u001b[0m \u001b[0mresult\u001b[0m\u001b[0;34m\u001b[0m\u001b[0m\n\u001b[1;32m   2117\u001b[0m \u001b[0;34m\u001b[0m\u001b[0m\n",
      "\u001b[0;32m/opt/app/anaconda2/python36/lib/python3.6/site-packages/IPython/core/magics/execution.py\u001b[0m in \u001b[0;36mtime\u001b[0;34m(self, line, cell, local_ns)\u001b[0m\n",
      "\u001b[0;32m/opt/app/anaconda2/python36/lib/python3.6/site-packages/IPython/core/magic.py\u001b[0m in \u001b[0;36m<lambda>\u001b[0;34m(f, *a, **k)\u001b[0m\n\u001b[1;32m    186\u001b[0m     \u001b[0;31m# but it's overkill for just that one bit of state.\u001b[0m\u001b[0;34m\u001b[0m\u001b[0;34m\u001b[0m\u001b[0m\n\u001b[1;32m    187\u001b[0m     \u001b[0;32mdef\u001b[0m \u001b[0mmagic_deco\u001b[0m\u001b[0;34m(\u001b[0m\u001b[0marg\u001b[0m\u001b[0;34m)\u001b[0m\u001b[0;34m:\u001b[0m\u001b[0;34m\u001b[0m\u001b[0m\n\u001b[0;32m--> 188\u001b[0;31m         \u001b[0mcall\u001b[0m \u001b[0;34m=\u001b[0m \u001b[0;32mlambda\u001b[0m \u001b[0mf\u001b[0m\u001b[0;34m,\u001b[0m \u001b[0;34m*\u001b[0m\u001b[0ma\u001b[0m\u001b[0;34m,\u001b[0m \u001b[0;34m**\u001b[0m\u001b[0mk\u001b[0m\u001b[0;34m:\u001b[0m \u001b[0mf\u001b[0m\u001b[0;34m(\u001b[0m\u001b[0;34m*\u001b[0m\u001b[0ma\u001b[0m\u001b[0;34m,\u001b[0m \u001b[0;34m**\u001b[0m\u001b[0mk\u001b[0m\u001b[0;34m)\u001b[0m\u001b[0;34m\u001b[0m\u001b[0m\n\u001b[0m\u001b[1;32m    189\u001b[0m \u001b[0;34m\u001b[0m\u001b[0m\n\u001b[1;32m    190\u001b[0m         \u001b[0;32mif\u001b[0m \u001b[0mcallable\u001b[0m\u001b[0;34m(\u001b[0m\u001b[0marg\u001b[0m\u001b[0;34m)\u001b[0m\u001b[0;34m:\u001b[0m\u001b[0;34m\u001b[0m\u001b[0m\n",
      "\u001b[0;32m/opt/app/anaconda2/python36/lib/python3.6/site-packages/IPython/core/magics/execution.py\u001b[0m in \u001b[0;36mtime\u001b[0;34m(self, line, cell, local_ns)\u001b[0m\n\u001b[1;32m   1178\u001b[0m         \u001b[0;32melse\u001b[0m\u001b[0;34m:\u001b[0m\u001b[0;34m\u001b[0m\u001b[0m\n\u001b[1;32m   1179\u001b[0m             \u001b[0mst\u001b[0m \u001b[0;34m=\u001b[0m \u001b[0mclock2\u001b[0m\u001b[0;34m(\u001b[0m\u001b[0;34m)\u001b[0m\u001b[0;34m\u001b[0m\u001b[0m\n\u001b[0;32m-> 1180\u001b[0;31m             \u001b[0mexec\u001b[0m\u001b[0;34m(\u001b[0m\u001b[0mcode\u001b[0m\u001b[0;34m,\u001b[0m \u001b[0mglob\u001b[0m\u001b[0;34m,\u001b[0m \u001b[0mlocal_ns\u001b[0m\u001b[0;34m)\u001b[0m\u001b[0;34m\u001b[0m\u001b[0m\n\u001b[0m\u001b[1;32m   1181\u001b[0m             \u001b[0mend\u001b[0m \u001b[0;34m=\u001b[0m \u001b[0mclock2\u001b[0m\u001b[0;34m(\u001b[0m\u001b[0;34m)\u001b[0m\u001b[0;34m\u001b[0m\u001b[0m\n\u001b[1;32m   1182\u001b[0m             \u001b[0mout\u001b[0m \u001b[0;34m=\u001b[0m \u001b[0;32mNone\u001b[0m\u001b[0;34m\u001b[0m\u001b[0m\n",
      "\u001b[0;32m<timed exec>\u001b[0m in \u001b[0;36m<module>\u001b[0;34m()\u001b[0m\n",
      "\u001b[0;32m/opt/app/anaconda2/python36/lib/python3.6/site-packages/sklearn/mixture/gmm.py\u001b[0m in \u001b[0;36mfit\u001b[0;34m(self, X, y)\u001b[0m\n\u001b[1;32m    595\u001b[0m         \u001b[0mself\u001b[0m\u001b[0;34m\u001b[0m\u001b[0m\n\u001b[1;32m    596\u001b[0m         \"\"\"\n\u001b[0;32m--> 597\u001b[0;31m         \u001b[0mself\u001b[0m\u001b[0;34m.\u001b[0m\u001b[0m_fit\u001b[0m\u001b[0;34m(\u001b[0m\u001b[0mX\u001b[0m\u001b[0;34m,\u001b[0m \u001b[0my\u001b[0m\u001b[0;34m)\u001b[0m\u001b[0;34m\u001b[0m\u001b[0m\n\u001b[0m\u001b[1;32m    598\u001b[0m         \u001b[0;32mreturn\u001b[0m \u001b[0mself\u001b[0m\u001b[0;34m\u001b[0m\u001b[0m\n\u001b[1;32m    599\u001b[0m \u001b[0;34m\u001b[0m\u001b[0m\n",
      "\u001b[0;32m/opt/app/anaconda2/python36/lib/python3.6/site-packages/sklearn/mixture/gmm.py\u001b[0m in \u001b[0;36m_fit\u001b[0;34m(self, X, y, do_prediction)\u001b[0m\n\u001b[1;32m    491\u001b[0m                 self.means_ = cluster.KMeans(\n\u001b[1;32m    492\u001b[0m                     \u001b[0mn_clusters\u001b[0m\u001b[0;34m=\u001b[0m\u001b[0mself\u001b[0m\u001b[0;34m.\u001b[0m\u001b[0mn_components\u001b[0m\u001b[0;34m,\u001b[0m\u001b[0;34m\u001b[0m\u001b[0m\n\u001b[0;32m--> 493\u001b[0;31m                     random_state=self.random_state).fit(X).cluster_centers_\n\u001b[0m\u001b[1;32m    494\u001b[0m                 \u001b[0;32mif\u001b[0m \u001b[0mself\u001b[0m\u001b[0;34m.\u001b[0m\u001b[0mverbose\u001b[0m \u001b[0;34m>\u001b[0m \u001b[0;36m1\u001b[0m\u001b[0;34m:\u001b[0m\u001b[0;34m\u001b[0m\u001b[0m\n\u001b[1;32m    495\u001b[0m                     \u001b[0mprint\u001b[0m\u001b[0;34m(\u001b[0m\u001b[0;34m'\\tMeans have been initialized.'\u001b[0m\u001b[0;34m)\u001b[0m\u001b[0;34m\u001b[0m\u001b[0m\n",
      "\u001b[0;32m/opt/app/anaconda2/python36/lib/python3.6/site-packages/sklearn/cluster/k_means_.py\u001b[0m in \u001b[0;36mfit\u001b[0;34m(self, X, y)\u001b[0m\n\u001b[1;32m    887\u001b[0m                 \u001b[0mtol\u001b[0m\u001b[0;34m=\u001b[0m\u001b[0mself\u001b[0m\u001b[0;34m.\u001b[0m\u001b[0mtol\u001b[0m\u001b[0;34m,\u001b[0m \u001b[0mrandom_state\u001b[0m\u001b[0;34m=\u001b[0m\u001b[0mrandom_state\u001b[0m\u001b[0;34m,\u001b[0m \u001b[0mcopy_x\u001b[0m\u001b[0;34m=\u001b[0m\u001b[0mself\u001b[0m\u001b[0;34m.\u001b[0m\u001b[0mcopy_x\u001b[0m\u001b[0;34m,\u001b[0m\u001b[0;34m\u001b[0m\u001b[0m\n\u001b[1;32m    888\u001b[0m                 \u001b[0mn_jobs\u001b[0m\u001b[0;34m=\u001b[0m\u001b[0mself\u001b[0m\u001b[0;34m.\u001b[0m\u001b[0mn_jobs\u001b[0m\u001b[0;34m,\u001b[0m \u001b[0malgorithm\u001b[0m\u001b[0;34m=\u001b[0m\u001b[0mself\u001b[0m\u001b[0;34m.\u001b[0m\u001b[0malgorithm\u001b[0m\u001b[0;34m,\u001b[0m\u001b[0;34m\u001b[0m\u001b[0m\n\u001b[0;32m--> 889\u001b[0;31m                 return_n_iter=True)\n\u001b[0m\u001b[1;32m    890\u001b[0m         \u001b[0;32mreturn\u001b[0m \u001b[0mself\u001b[0m\u001b[0;34m\u001b[0m\u001b[0m\n\u001b[1;32m    891\u001b[0m \u001b[0;34m\u001b[0m\u001b[0m\n",
      "\u001b[0;32m/opt/app/anaconda2/python36/lib/python3.6/site-packages/sklearn/cluster/k_means_.py\u001b[0m in \u001b[0;36mk_means\u001b[0;34m(X, n_clusters, init, precompute_distances, n_init, max_iter, verbose, tol, random_state, copy_x, n_jobs, algorithm, return_n_iter)\u001b[0m\n\u001b[1;32m    343\u001b[0m                 \u001b[0mX\u001b[0m\u001b[0;34m,\u001b[0m \u001b[0mn_clusters\u001b[0m\u001b[0;34m,\u001b[0m \u001b[0mmax_iter\u001b[0m\u001b[0;34m=\u001b[0m\u001b[0mmax_iter\u001b[0m\u001b[0;34m,\u001b[0m \u001b[0minit\u001b[0m\u001b[0;34m=\u001b[0m\u001b[0minit\u001b[0m\u001b[0;34m,\u001b[0m \u001b[0mverbose\u001b[0m\u001b[0;34m=\u001b[0m\u001b[0mverbose\u001b[0m\u001b[0;34m,\u001b[0m\u001b[0;34m\u001b[0m\u001b[0m\n\u001b[1;32m    344\u001b[0m                 \u001b[0mprecompute_distances\u001b[0m\u001b[0;34m=\u001b[0m\u001b[0mprecompute_distances\u001b[0m\u001b[0;34m,\u001b[0m \u001b[0mtol\u001b[0m\u001b[0;34m=\u001b[0m\u001b[0mtol\u001b[0m\u001b[0;34m,\u001b[0m\u001b[0;34m\u001b[0m\u001b[0m\n\u001b[0;32m--> 345\u001b[0;31m                 x_squared_norms=x_squared_norms, random_state=random_state)\n\u001b[0m\u001b[1;32m    346\u001b[0m             \u001b[0;31m# determine if these results are the best so far\u001b[0m\u001b[0;34m\u001b[0m\u001b[0;34m\u001b[0m\u001b[0m\n\u001b[1;32m    347\u001b[0m             \u001b[0;32mif\u001b[0m \u001b[0mbest_inertia\u001b[0m \u001b[0;32mis\u001b[0m \u001b[0;32mNone\u001b[0m \u001b[0;32mor\u001b[0m \u001b[0minertia\u001b[0m \u001b[0;34m<\u001b[0m \u001b[0mbest_inertia\u001b[0m\u001b[0;34m:\u001b[0m\u001b[0;34m\u001b[0m\u001b[0m\n",
      "\u001b[0;32m/opt/app/anaconda2/python36/lib/python3.6/site-packages/sklearn/cluster/k_means_.py\u001b[0m in \u001b[0;36m_kmeans_single_elkan\u001b[0;34m(X, n_clusters, max_iter, init, verbose, x_squared_norms, random_state, tol, precompute_distances)\u001b[0m\n\u001b[1;32m    397\u001b[0m         \u001b[0mprint\u001b[0m\u001b[0;34m(\u001b[0m\u001b[0;34m'Initialization complete'\u001b[0m\u001b[0;34m)\u001b[0m\u001b[0;34m\u001b[0m\u001b[0m\n\u001b[1;32m    398\u001b[0m     centers, labels, n_iter = k_means_elkan(X, n_clusters, centers, tol=tol,\n\u001b[0;32m--> 399\u001b[0;31m                                             max_iter=max_iter, verbose=verbose)\n\u001b[0m\u001b[1;32m    400\u001b[0m     \u001b[0minertia\u001b[0m \u001b[0;34m=\u001b[0m \u001b[0mnp\u001b[0m\u001b[0;34m.\u001b[0m\u001b[0msum\u001b[0m\u001b[0;34m(\u001b[0m\u001b[0;34m(\u001b[0m\u001b[0mX\u001b[0m \u001b[0;34m-\u001b[0m \u001b[0mcenters\u001b[0m\u001b[0;34m[\u001b[0m\u001b[0mlabels\u001b[0m\u001b[0;34m]\u001b[0m\u001b[0;34m)\u001b[0m \u001b[0;34m**\u001b[0m \u001b[0;36m2\u001b[0m\u001b[0;34m,\u001b[0m \u001b[0mdtype\u001b[0m\u001b[0;34m=\u001b[0m\u001b[0mnp\u001b[0m\u001b[0;34m.\u001b[0m\u001b[0mfloat64\u001b[0m\u001b[0;34m)\u001b[0m\u001b[0;34m\u001b[0m\u001b[0m\n\u001b[1;32m    401\u001b[0m     \u001b[0;32mreturn\u001b[0m \u001b[0mlabels\u001b[0m\u001b[0;34m,\u001b[0m \u001b[0minertia\u001b[0m\u001b[0;34m,\u001b[0m \u001b[0mcenters\u001b[0m\u001b[0;34m,\u001b[0m \u001b[0mn_iter\u001b[0m\u001b[0;34m\u001b[0m\u001b[0m\n",
      "\u001b[0;32msklearn/cluster/_k_means_elkan.pyx\u001b[0m in \u001b[0;36msklearn.cluster._k_means_elkan.k_means_elkan (sklearn/cluster/_k_means_elkan.c:7470)\u001b[0;34m()\u001b[0m\n",
      "\u001b[0;32m/opt/app/anaconda2/python36/lib/python3.6/site-packages/sklearn/metrics/pairwise.py\u001b[0m in \u001b[0;36meuclidean_distances\u001b[0;34m(X, Y, Y_norm_squared, squared, X_norm_squared)\u001b[0m\n\u001b[1;32m    160\u001b[0m \u001b[0;34m\u001b[0m\u001b[0m\n\u001b[1;32m    161\u001b[0m \u001b[0;31m# Pairwise distances\u001b[0m\u001b[0;34m\u001b[0m\u001b[0;34m\u001b[0m\u001b[0m\n\u001b[0;32m--> 162\u001b[0;31m def euclidean_distances(X, Y=None, Y_norm_squared=None, squared=False,\n\u001b[0m\u001b[1;32m    163\u001b[0m                         X_norm_squared=None):\n\u001b[1;32m    164\u001b[0m     \"\"\"\n",
      "\u001b[0;31mKeyboardInterrupt\u001b[0m: "
     ]
    }
   ],
   "source": [
    "%%time\n",
    "gmm = GMM(n_components=9).fit(df_)\n",
    "labels = gmm.predict(df_)"
   ]
  },
  {
   "cell_type": "code",
   "execution_count": 21,
   "metadata": {
    "collapsed": true
   },
   "outputs": [],
   "source": [
    "cluster_normalized = df_.copy()"
   ]
  },
  {
   "cell_type": "code",
   "execution_count": 58,
   "metadata": {
    "collapsed": false
   },
   "outputs": [
    {
     "data": {
      "text/plain": [
       "TOT_DUE_AMT                         9.09\n",
       "Promise_%                          63.69\n",
       "A_avg                              76.00\n",
       "P_avg                              99.09\n",
       "BAN                                57.30\n",
       "acct_bhvr_scr_nbr                  98.03\n",
       "ar_bhvr_scr_nbr                    97.95\n",
       "avg_paid_full_dy_cnt                8.73\n",
       "crdt_buru_scr_nbr                  83.87\n",
       "cust_bhvr_scr_nbr                  98.27\n",
       "cust_recls_scr_nbr                 89.64\n",
       "pmt_arng_scr_nbr                   82.87\n",
       "wirls_ln_cnt                        0.56\n",
       "excpt_ovrd_ind                      0.75\n",
       "pyarr_scr_nbr                      82.87\n",
       "lst_bhvr_scr_nbr                   77.48\n",
       "preferred_month_CALL_DT            60.62\n",
       "preferred_day_of_monthCALL_DT      56.81\n",
       "preferred_weekdayCALL_DT           42.45\n",
       "return_itm_180_dy_cnt               0.45\n",
       "return_itm_30_dy_cnt                0.27\n",
       "Tenure                             21.54\n",
       "MOBILITY_REGION_NAME_flagCentral   36.56\n",
       "MOBILITY_REGION_NAME_flagEast      44.19\n",
       "MOBILITY_REGION_NAME_flagWest      19.25\n",
       "ACCT_STS_AT_CALL_DATE_flagN         0.21\n",
       "ACCT_STS_AT_CALL_DATE_flagO        99.60\n",
       "ACCT_STS_AT_CALL_DATE_flagS         0.20\n",
       "labels                              2.68\n",
       "dtype: float64"
      ]
     },
     "execution_count": 58,
     "metadata": {},
     "output_type": "execute_result"
    }
   ],
   "source": [
    "cluster_normalized.mean()"
   ]
  },
  {
   "cell_type": "code",
   "execution_count": null,
   "metadata": {
    "collapsed": true
   },
   "outputs": [],
   "source": []
  },
  {
   "cell_type": "code",
   "execution_count": null,
   "metadata": {
    "collapsed": true
   },
   "outputs": [],
   "source": []
  },
  {
   "cell_type": "code",
   "execution_count": null,
   "metadata": {
    "collapsed": true
   },
   "outputs": [],
   "source": []
  },
  {
   "cell_type": "code",
   "execution_count": 22,
   "metadata": {
    "collapsed": true
   },
   "outputs": [],
   "source": [
    "cluster_normalized['labels'] = labels"
   ]
  },
  {
   "cell_type": "code",
   "execution_count": 23,
   "metadata": {
    "collapsed": false
   },
   "outputs": [],
   "source": [
    "c1 = cluster_normalized.loc[cluster_normalized['labels'] == 0]\n",
    "c2 = cluster_normalized.loc[cluster_normalized['labels'] == 1]\n",
    "c3 = cluster_normalized.loc[cluster_normalized['labels'] == 2]\n",
    "c4 = cluster_normalized.loc[cluster_normalized['labels'] == 3]\n",
    "c5 = cluster_normalized.loc[cluster_normalized['labels'] == 4]\n",
    "c6 = cluster_normalized.loc[cluster_normalized['labels'] == 5]"
   ]
  },
  {
   "cell_type": "code",
   "execution_count": 24,
   "metadata": {
    "collapsed": true
   },
   "outputs": [],
   "source": [
    "df = cluster_normalized.drop('labels', axis = 1)"
   ]
  },
  {
   "cell_type": "code",
   "execution_count": 34,
   "metadata": {
    "collapsed": true
   },
   "outputs": [
    {
     "data": {
      "text/plain": [
       "TOT_DUE_AMT                         9.09\n",
       "Promise_%                          63.69\n",
       "A_avg                              76.00\n",
       "P_avg                              99.09\n",
       "BAN                                57.30\n",
       "acct_bhvr_scr_nbr                  98.03\n",
       "ar_bhvr_scr_nbr                    97.95\n",
       "avg_paid_full_dy_cnt                8.73\n",
       "crdt_buru_scr_nbr                  83.87\n",
       "cust_bhvr_scr_nbr                  98.27\n",
       "cust_recls_scr_nbr                 89.64\n",
       "pmt_arng_scr_nbr                   82.87\n",
       "wirls_ln_cnt                        0.56\n",
       "excpt_ovrd_ind                      0.75\n",
       "pyarr_scr_nbr                      82.87\n",
       "lst_bhvr_scr_nbr                   77.48\n",
       "preferred_month_CALL_DT            60.62\n",
       "preferred_day_of_monthCALL_DT      56.81\n",
       "preferred_weekdayCALL_DT           42.45\n",
       "return_itm_180_dy_cnt               0.45\n",
       "return_itm_30_dy_cnt                0.27\n",
       "Tenure                             21.54\n",
       "MOBILITY_REGION_NAME_flagCentral   36.56\n",
       "MOBILITY_REGION_NAME_flagEast      44.19\n",
       "MOBILITY_REGION_NAME_flagWest      19.25\n",
       "ACCT_STS_AT_CALL_DATE_flagN         0.21\n",
       "ACCT_STS_AT_CALL_DATE_flagO        99.60\n",
       "ACCT_STS_AT_CALL_DATE_flagS         0.20\n",
       "dtype: float64"
      ]
     },
     "execution_count": 34,
     "metadata": {},
     "output_type": "execute_result"
    }
   ],
   "source": [
    "df_.mean()"
   ]
  },
  {
   "cell_type": "code",
   "execution_count": 36,
   "metadata": {
    "collapsed": true
   },
   "outputs": [],
   "source": [
    "df_.to_csv('../../0.Data/1.Interim/New/merge_normalized.csv', index = False)"
   ]
  },
  {
   "cell_type": "code",
   "execution_count": 38,
   "metadata": {
    "collapsed": true
   },
   "outputs": [],
   "source": [
    "cluster_normalized.to_csv('../../0.Data/1.Interim/New/cluster_normalized.csv', index = False)"
   ]
  },
  {
   "cell_type": "code",
   "execution_count": 37,
   "metadata": {
    "collapsed": false
   },
   "outputs": [
    {
     "data": {
      "text/plain": [
       "array(['TOT_DUE_AMT', 'Promise_%', 'A_avg', 'P_avg', 'BAN',\n",
       "       'acct_bhvr_scr_nbr', 'ar_bhvr_scr_nbr', 'avg_paid_full_dy_cnt',\n",
       "       'crdt_buru_scr_nbr', 'cust_bhvr_scr_nbr', 'cust_recls_scr_nbr',\n",
       "       'pmt_arng_scr_nbr', 'wirls_ln_cnt', 'excpt_ovrd_ind',\n",
       "       'pyarr_scr_nbr', 'lst_bhvr_scr_nbr', 'preferred_month_CALL_DT',\n",
       "       'preferred_day_of_monthCALL_DT', 'preferred_weekdayCALL_DT',\n",
       "       'return_itm_180_dy_cnt', 'return_itm_30_dy_cnt', 'Tenure',\n",
       "       'MOBILITY_REGION_NAME_flagCentral', 'MOBILITY_REGION_NAME_flagEast',\n",
       "       'MOBILITY_REGION_NAME_flagWest', 'ACCT_STS_AT_CALL_DATE_flagN',\n",
       "       'ACCT_STS_AT_CALL_DATE_flagO', 'ACCT_STS_AT_CALL_DATE_flagS',\n",
       "       'labels'], dtype=object)"
      ]
     },
     "execution_count": 37,
     "metadata": {},
     "output_type": "execute_result"
    }
   ],
   "source": [
    "cluster_normalized.columns.values"
   ]
  },
  {
   "cell_type": "code",
   "execution_count": 25,
   "metadata": {
    "collapsed": false
   },
   "outputs": [
    {
     "data": {
      "text/plain": [
       "array(['TOT_DUE_AMT', 'Promise_%', 'A_avg', 'P_avg', 'BAN',\n",
       "       'acct_bhvr_scr_nbr', 'ar_bhvr_scr_nbr', 'avg_paid_full_dy_cnt',\n",
       "       'crdt_buru_scr_nbr', 'cust_bhvr_scr_nbr', 'cust_recls_scr_nbr',\n",
       "       'pmt_arng_scr_nbr', 'wirls_ln_cnt', 'excpt_ovrd_ind',\n",
       "       'pyarr_scr_nbr', 'lst_bhvr_scr_nbr', 'preferred_month_CALL_DT',\n",
       "       'preferred_day_of_monthCALL_DT', 'preferred_weekdayCALL_DT',\n",
       "       'return_itm_180_dy_cnt', 'return_itm_30_dy_cnt', 'Tenure',\n",
       "       'MOBILITY_REGION_NAME_flagCentral', 'MOBILITY_REGION_NAME_flagEast',\n",
       "       'MOBILITY_REGION_NAME_flagWest', 'ACCT_STS_AT_CALL_DATE_flagN',\n",
       "       'ACCT_STS_AT_CALL_DATE_flagO', 'ACCT_STS_AT_CALL_DATE_flagS'], dtype=object)"
      ]
     },
     "execution_count": 25,
     "metadata": {},
     "output_type": "execute_result"
    }
   ],
   "source": [
    "df.columns.values"
   ]
  },
  {
   "cell_type": "code",
   "execution_count": 27,
   "metadata": {
    "collapsed": false
   },
   "outputs": [],
   "source": [
    "cluster_grp = []\n",
    "for col in df.columns.values.tolist():\n",
    "    orig = round(df[col].mean(),2)\n",
    "    c1_val = round(c1[col].mean(),2)\n",
    "    c2_val = round(c2[col].mean(),2)\n",
    "    c3_val = round(c3[col].mean(),2)\n",
    "    c4_val = round(c4[col].mean(),2)\n",
    "    c5_val = round(c5[col].mean(),2)\n",
    "    c6_val = round(c6[col].mean(),2)\n",
    "    if(orig == 0):\n",
    "        c1_change = None\n",
    "        c2_change = None\n",
    "        c3_change = None\n",
    "        c4_change = None\n",
    "        c5_change = None\n",
    "        c6_change = None\n",
    "    else:\n",
    "        c1_change = round(((c1_val-orig)*100/orig),2)\n",
    "        c2_change = round(((c2_val-orig)*100/orig),2)\n",
    "        c3_change = round(((c3_val-orig)*100/orig),2)\n",
    "        c4_change = round(((c4_val-orig)*100/orig),2)\n",
    "        c5_change = round(((c5_val-orig)*100/orig),2)\n",
    "        c6_change = round(((c6_val-orig)*100/orig),2)\n",
    "    cluster_grp.append((col, orig, c1_val, c1_change , c2_val, c2_change, c3_val, c3_change, c4_val, c4_change, c5_val, c5_change,\\\n",
    "                       c6_val, c6_change))\n",
    "\n"
   ]
  },
  {
   "cell_type": "code",
   "execution_count": 28,
   "metadata": {
    "collapsed": false
   },
   "outputs": [],
   "source": [
    "cluster_group = pd.DataFrame(cluster_grp, columns = ['Column', 'Entire dataset value', 'c1_value', 'c1_change_%', \\\n",
    "                'c2_value', 'c2_change_%', 'c3_value', 'c3_change_%', 'c4_value', 'c4_change_%', \\\n",
    "                'c5_value', 'c5_change_%', 'c6_value' , 'c6_change_%'])"
   ]
  },
  {
   "cell_type": "code",
   "execution_count": 29,
   "metadata": {
    "collapsed": false
   },
   "outputs": [
    {
     "data": {
      "text/plain": [
       "28"
      ]
     },
     "execution_count": 29,
     "metadata": {},
     "output_type": "execute_result"
    }
   ],
   "source": [
    "len(cluster_group)"
   ]
  },
  {
   "cell_type": "code",
   "execution_count": 30,
   "metadata": {
    "collapsed": true
   },
   "outputs": [],
   "source": [
    "cluster_group.to_csv('../3.Analysis/cluster_gmm_1_normalized.csv', index = False)"
   ]
  },
  {
   "cell_type": "code",
   "execution_count": 45,
   "metadata": {
    "collapsed": false
   },
   "outputs": [
    {
     "data": {
      "text/plain": [
       "array(['TOT_DUE_AMT', 'Promise_%', 'A_avg', 'P_avg', 'BAN',\n",
       "       'acct_bhvr_scr_nbr', 'ar_bhvr_scr_nbr', 'avg_paid_full_dy_cnt',\n",
       "       'crdt_buru_scr_nbr', 'cust_bhvr_scr_nbr', 'cust_recls_scr_nbr',\n",
       "       'pmt_arng_scr_nbr', 'wirls_ln_cnt', 'excpt_ovrd_ind',\n",
       "       'pyarr_scr_nbr', 'lst_bhvr_scr_nbr', 'preferred_month_CALL_DT',\n",
       "       'preferred_day_of_monthCALL_DT', 'preferred_weekdayCALL_DT',\n",
       "       'return_itm_180_dy_cnt', 'return_itm_30_dy_cnt', 'Tenure',\n",
       "       'MOBILITY_REGION_NAME_flagCentral', 'MOBILITY_REGION_NAME_flagEast',\n",
       "       'MOBILITY_REGION_NAME_flagWest', 'ACCT_STS_AT_CALL_DATE_flagN',\n",
       "       'ACCT_STS_AT_CALL_DATE_flagO', 'ACCT_STS_AT_CALL_DATE_flagS'], dtype=object)"
      ]
     },
     "execution_count": 45,
     "metadata": {},
     "output_type": "execute_result"
    }
   ],
   "source": [
    "df_.columns.values"
   ]
  },
  {
   "cell_type": "code",
   "execution_count": 57,
   "metadata": {
    "collapsed": false
   },
   "outputs": [
    {
     "data": {
      "text/plain": [
       "0.00     0.96\n",
       "6.67     0.03\n",
       "13.33    0.00\n",
       "20.00    0.00\n",
       "26.67    0.00\n",
       "33.33    0.00\n",
       "40.00    0.00\n",
       "46.67    0.00\n",
       "93.33    0.00\n",
       "100.00   0.00\n",
       "53.33    0.00\n",
       "Name: return_itm_30_dy_cnt, dtype: float64"
      ]
     },
     "execution_count": 57,
     "metadata": {},
     "output_type": "execute_result"
    }
   ],
   "source": [
    "df_.return_itm_30_dy_cnt.value_counts()/len(df_)"
   ]
  },
  {
   "cell_type": "code",
   "execution_count": 47,
   "metadata": {
    "collapsed": false
   },
   "outputs": [],
   "source": [
    "df_['labels'] = labels"
   ]
  },
  {
   "cell_type": "code",
   "execution_count": 48,
   "metadata": {
    "collapsed": true
   },
   "outputs": [],
   "source": [
    "c1_ = df_.loc[df_['labels'] == 0]\n",
    "c2_ = df_.loc[df_['labels'] == 1]\n",
    "c3_ = df_.loc[df_['labels'] == 2]\n",
    "c4_ = df_.loc[df_['labels'] == 3]\n",
    "c5_ = df_.loc[df_['labels'] == 4]\n",
    "c6_ = df_.loc[df_['labels'] == 5]"
   ]
  },
  {
   "cell_type": "code",
   "execution_count": 51,
   "metadata": {
    "collapsed": false
   },
   "outputs": [
    {
     "data": {
      "text/plain": [
       "54.54545454545454"
      ]
     },
     "execution_count": 51,
     "metadata": {},
     "output_type": "execute_result"
    }
   ],
   "source": [
    "c5_.wirls_ln_cnt.max()"
   ]
  },
  {
   "cell_type": "code",
   "execution_count": 52,
   "metadata": {
    "collapsed": false
   },
   "outputs": [
    {
     "data": {
      "text/plain": [
       "0.0"
      ]
     },
     "execution_count": 52,
     "metadata": {},
     "output_type": "execute_result"
    }
   ],
   "source": [
    "c5_.wirls_ln_cnt.min()"
   ]
  },
  {
   "cell_type": "code",
   "execution_count": 53,
   "metadata": {
    "collapsed": true
   },
   "outputs": [
    {
     "data": {
      "text/plain": [
       "0.17     368\n",
       "0.00     347\n",
       "0.34     314\n",
       "0.51     278\n",
       "0.69     214\n",
       "0.86     189\n",
       "1.03     122\n",
       "1.20      80\n",
       "1.37      51\n",
       "1.54      34\n",
       "1.72      31\n",
       "1.89      16\n",
       "2.23      16\n",
       "2.40      16\n",
       "3.43      14\n",
       "3.95      13\n",
       "2.74      13\n",
       "2.92      11\n",
       "3.09      10\n",
       "2.06       9\n",
       "3.26       7\n",
       "4.29       7\n",
       "2.57       7\n",
       "3.77       6\n",
       "5.15       6\n",
       "4.12       6\n",
       "3.60       6\n",
       "4.63       5\n",
       "5.83       4\n",
       "5.66       3\n",
       "5.49       3\n",
       "4.80       3\n",
       "8.06       3\n",
       "4.97       3\n",
       "6.35       2\n",
       "6.86       2\n",
       "5.32       2\n",
       "6.17       2\n",
       "7.03       1\n",
       "17.50      1\n",
       "10.81      1\n",
       "16.12      1\n",
       "4.46       1\n",
       "6.69       1\n",
       "6.00       1\n",
       "14.07      1\n",
       "10.12      1\n",
       "32.59      1\n",
       "8.40       1\n",
       "10.46      1\n",
       "13.89      1\n",
       "11.84      1\n",
       "54.55      1\n",
       "14.75      1\n",
       "11.15      1\n",
       "20.41      1\n",
       "9.43       1\n",
       "6.52       1\n",
       "23.67      1\n",
       "29.33      1\n",
       "12.01      1\n",
       "8.23       1\n",
       "19.38      1\n",
       "19.90      1\n",
       "7.38       1\n",
       "7.55       1\n",
       "22.30      1\n",
       "9.61       1\n",
       "7.72       1\n",
       "9.95       1\n",
       "12.86      1\n",
       "Name: wirls_ln_cnt, dtype: int64"
      ]
     },
     "execution_count": 53,
     "metadata": {},
     "output_type": "execute_result"
    }
   ],
   "source": [
    "c5_.wirls_ln_cnt.value_counts()"
   ]
  },
  {
   "cell_type": "code",
   "execution_count": null,
   "metadata": {
    "collapsed": true
   },
   "outputs": [],
   "source": []
  }
 ],
 "metadata": {
  "kernelspec": {
   "display_name": "Python 3",
   "language": "python",
   "name": "python3"
  },
  "language_info": {
   "codemirror_mode": {
    "name": "ipython",
    "version": 3
   },
   "file_extension": ".py",
   "mimetype": "text/x-python",
   "name": "python",
   "nbconvert_exporter": "python",
   "pygments_lexer": "ipython3",
   "version": "3.6.0"
  }
 },
 "nbformat": 4,
 "nbformat_minor": 1
}
